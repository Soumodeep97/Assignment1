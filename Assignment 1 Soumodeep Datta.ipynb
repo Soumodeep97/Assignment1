{
 "cells": [
  {
   "cell_type": "code",
   "execution_count": 27,
   "metadata": {},
   "outputs": [
    {
     "name": "stdout",
     "output_type": "stream",
     "text": [
      "enter the starting number : 50\n",
      "enter the ending number   : 60\n",
      "prime numbers from 50 to 60 is: \n",
      "53 59 "
     ]
    }
   ],
   "source": [
    "#Q1. Prime numbers in an interval.\n",
    "start=int(input('enter the starting number : '))\n",
    "end=int(input('enter the ending number   : '))\n",
    "print('prime numbers from', start , 'to', end, 'is: ')\n",
    "for prime in range(start,end+1):\n",
    "    if prime>2:\n",
    "        for i in range(2,prime):\n",
    "            if (prime % i)==0:\n",
    "                break\n",
    "        else:\n",
    "            print(prime, end=' ')"
   ]
  },
  {
   "cell_type": "code",
   "execution_count": 28,
   "metadata": {},
   "outputs": [
    {
     "name": "stdout",
     "output_type": "stream",
     "text": [
      "Enter the number you want to find the factorial is: 7\n",
      "Factorial of that number  is : 5040\n"
     ]
    }
   ],
   "source": [
    "#Q2. factorial of a number.\n",
    "i=int(input('Enter the number you want to find the factorial is: '))\n",
    "f=1\n",
    "while (i>0):\n",
    "    f=f*i\n",
    "    i=i-1\n",
    "print('Factorial of that number ', 'is :', f)"
   ]
  },
  {
   "cell_type": "code",
   "execution_count": 36,
   "metadata": {},
   "outputs": [
    {
     "name": "stdout",
     "output_type": "stream",
     "text": [
      "enter the number 100\n",
      "sum is equal to  5050\n"
     ]
    }
   ],
   "source": [
    "#Q3. Sum of n numbers using while loop.\n",
    "n=int(input('enter the number '))\n",
    "j=0\n",
    "i=1\n",
    "while i<=n:\n",
    "    j=j+i\n",
    "    i=i+1\n",
    "print('sum is equal to ', j)"
   ]
  },
  {
   "cell_type": "code",
   "execution_count": null,
   "metadata": {},
   "outputs": [],
   "source": []
  }
 ],
 "metadata": {
  "kernelspec": {
   "display_name": "Python 3",
   "language": "python",
   "name": "python3"
  },
  "language_info": {
   "codemirror_mode": {
    "name": "ipython",
    "version": 3
   },
   "file_extension": ".py",
   "mimetype": "text/x-python",
   "name": "python",
   "nbconvert_exporter": "python",
   "pygments_lexer": "ipython3",
   "version": "3.8.5"
  }
 },
 "nbformat": 4,
 "nbformat_minor": 4
}
